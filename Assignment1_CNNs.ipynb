{
 "cells": [
  {
   "cell_type": "markdown",
   "metadata": {},
   "source": [
    "# Warm up\n",
    "\n",
    "The code below showcases a convolutional network in Keras. It was designed to classify 100x100 rgb images into 10 classes.\n",
    "This network... quite frankly, it sucks. Can you guess what's the problem? Is there just one problem?"
   ]
  },
  {
   "cell_type": "code",
   "execution_count": null,
   "metadata": {},
   "outputs": [],
   "source": [
    "import keras\n",
    "import keras.layers as L\n",
    "import keras.initializers as init"
   ]
  },
  {
   "cell_type": "code",
   "execution_count": null,
   "metadata": {},
   "outputs": [],
   "source": [
    "net = keras.models.Sequential()\n",
    "\n",
    "net.add(L.InputLayer([100, 100, 3]))\n",
    "\n",
    "net.add(L.Conv2D(filters=512, kernel_size=(3, 3), \n",
    "                 kernel_initializer=init.zeros()))\n",
    "net.add(L.Activation('relu'))\n",
    "\n",
    "net.add(L.Conv2D(filters=128, kernel_size=(3, 3), \n",
    "                 kernel_initializer=init.zeros()))\n",
    "net.add(L.Activation('relu'))\n",
    "\n",
    "net.add(L.Conv2D(filters=32, kernel_size=(3, 3), \n",
    "                 kernel_initializer=init.zeros()))\n",
    "net.add(L.Activation('relu'))\n",
    "\n",
    "net.add(L.MaxPool2D(pool_size=(6, 6)))\n",
    "\n",
    "net.add(L.Conv2D(filters=8, kernel_size=(10, 10), \n",
    "                 kernel_initializer=init.RandomNormal(), padding='same'))\n",
    "net.add(L.Activation('relu'))\n",
    "\n",
    "\n",
    "net.add(L.Conv2D(filters=8, kernel_size=(10, 10), \n",
    "                 kernel_initializer=init.RandomNormal(), padding='same'))\n",
    "net.add(L.Activation('relu'))\n",
    "\n",
    "net.add(L.MaxPool2D(pool_size=(3, 3)))\n",
    "\n",
    "net.add(L.Flatten()) # convert 3d tensor to a vector of features\n",
    "\n",
    "net.add(L.Dense(units=512))\n",
    "net.add(L.Activation('softmax'))\n",
    "\n",
    "net.add(L.Dropout(rate=0.5))\n",
    "\n",
    "net.add(L.Dense(units=512))\n",
    "net.add(L.Activation('softmax'))\n",
    "\n",
    "net.add(L.Dense(units=10))\n",
    "net.add(L.Activation('sigmoid'))\n",
    "net.add(L.Dropout(rate=0.5))"
   ]
  },
  {
   "cell_type": "markdown",
   "metadata": {},
   "source": [
    "* [Conv2D](https://keras.io/layers/convolutional/#conv2d) - performs convolution:\n",
    "    * filters: number of output channels;\n",
    "    * kernel_size: an integer or tuple/list of 2 integers, specifying the width and height of the 2D convolution window;\n",
    "    * padding: padding=\"same\" adds zero padding to the input, so that the output has the same width and height, padding='valid' performs convolution only in locations where kernel and the input fully overlap;\n",
    "    * activation: \"relu\", \"tanh\", etc.\n",
    "    * input_shape: shape of input.\n",
    "* [MaxPooling2D](https://keras.io/layers/pooling/#maxpooling2d) - performs 2D max pooling.\n",
    "* [Flatten](https://keras.io/layers/core/#flatten) - flattens the input, does not affect the batch size.\n",
    "* [Dense](https://keras.io/layers/core/#dense) - fully-connected layer.\n",
    "    * Activation - applies an activation function.\n",
    "* [LeakyReLU](https://keras.io/layers/advanced-activations/#leakyrelu) - applies leaky relu activation.\n",
    "* [Dropout](https://keras.io/layers/core/#dropout) - applies dropout."
   ]
  },
  {
   "cell_type": "markdown",
   "metadata": {},
   "source": [
    "## Book of grudges\n",
    "* zero init for weights will cause symmetry effect\n",
    "* Too many filters for first 3x3 convolution - will lead to enormous matrix while there's just not enough relevant combinations of 3x3 images (overkill).\n",
    "* Usually the further you go, the more filters you need.\n",
    "* large filters (10x10 is generally a bad pactice, and you definitely need more than 10 of them\n",
    "* the second of 10x10 convolution gets 8x6x6 image as input, so it's technically unable to perform such convolution.\n",
    "* Softmax nonlinearity effectively makes only 1 or a few neurons from the entire layer to \"fire\", rendering 512-neuron layer almost useless. Softmax at the output layer is okay though\n",
    "* Dropout after probability prediciton is just lame. A few random classes get probability of 0, so your probabilities no longer sum to 1 and crossentropy goes -inf."
   ]
  },
  {
   "cell_type": "markdown",
   "metadata": {},
   "source": [
    "In this exercise you have to train a new Convolutional Neural Network from scratch for the classification of images.\n",
    "\n",
    "1. For this we will use the Keras library.\n",
    "2. The aim is to achieve 99% accuracy (on validation/test set) the MNIST dataset http://yann.lecun.com/exdb/mnist/.\n",
    "3. We have provided a basic Keras implementation of a CNN.\n",
    "4. You are allowed to do whatever you want (except copy pasting) with the network as long as it is explained in your report.\n",
    "5. Feel free to change the architecture of the network as well as parameters (e.g. learning rate, kernel sizes, ...).\n",
    "6. You can try to guess parameters manually of you want, just make sure that it performs better than 99% on the validation set.\n",
    "7. Sketch the final network architecture in your report.\n",
    "8. Make sure you train the network on the GPU, otherwise it will be too slow.\n",
    "9. Explain the plots: learning curve, accuracy wrt epoch."
   ]
  },
  {
   "cell_type": "code",
   "execution_count": 2,
   "metadata": {},
   "outputs": [
    {
     "name": "stderr",
     "output_type": "stream",
     "text": [
      "2022-12-07 12:27:46.153272: I tensorflow/core/platform/cpu_feature_guard.cc:193] This TensorFlow binary is optimized with oneAPI Deep Neural Network Library (oneDNN) to use the following CPU instructions in performance-critical operations:  AVX2 FMA\n",
      "To enable them in other operations, rebuild TensorFlow with the appropriate compiler flags.\n",
      "2022-12-07 12:27:46.614821: W tensorflow/compiler/xla/stream_executor/platform/default/dso_loader.cc:64] Could not load dynamic library 'libcudart.so.11.0'; dlerror: libcudart.so.11.0: cannot open shared object file: No such file or directory\n",
      "2022-12-07 12:27:46.614881: I tensorflow/compiler/xla/stream_executor/cuda/cudart_stub.cc:29] Ignore above cudart dlerror if you do not have a GPU set up on your machine.\n",
      "2022-12-07 12:27:47.930090: W tensorflow/compiler/xla/stream_executor/platform/default/dso_loader.cc:64] Could not load dynamic library 'libnvinfer.so.7'; dlerror: libnvinfer.so.7: cannot open shared object file: No such file or directory\n",
      "2022-12-07 12:27:47.930253: W tensorflow/compiler/xla/stream_executor/platform/default/dso_loader.cc:64] Could not load dynamic library 'libnvinfer_plugin.so.7'; dlerror: libnvinfer_plugin.so.7: cannot open shared object file: No such file or directory\n",
      "2022-12-07 12:27:47.930261: W tensorflow/compiler/tf2tensorrt/utils/py_utils.cc:38] TF-TRT Warning: Cannot dlopen some TensorRT libraries. If you would like to use Nvidia GPU with TensorRT, please make sure the missing libraries mentioned above are installed properly.\n"
     ]
    }
   ],
   "source": [
    "import numpy as np\n",
    "import tensorflow as tf\n",
    "import keras\n",
    "import pandas as pd\n",
    "import matplotlib.pyplot as plt\n",
    "from keras import Sequential\n",
    "from keras.layers import Conv2D, Dense , MaxPool2D, Flatten\n",
    "from keras import datasets"
   ]
  },
  {
   "cell_type": "code",
   "execution_count": 44,
   "metadata": {},
   "outputs": [
    {
     "name": "stdout",
     "output_type": "stream",
     "text": [
      "(60000, 28, 28)\n",
      "(60000,)\n"
     ]
    }
   ],
   "source": [
    "(x_train,y_train),(x_test,y_test) = datasets.mnist.load_data()\n",
    "print(x_train.shape)\n",
    "print(y_train.shape)\n",
    "\n"
   ]
  },
  {
   "cell_type": "code",
   "execution_count": 46,
   "metadata": {},
   "outputs": [
    {
     "data": {
      "text/plain": [
       "(60000,)"
      ]
     },
     "execution_count": 46,
     "metadata": {},
     "output_type": "execute_result"
    },
    {
     "data": {
      "image/png": "[encoded data removed]",
      "text/plain": [
       "<Figure size 1500x200 with 1 Axes>"
      ]
     },
     "metadata": {},
     "output_type": "display_data"
    }
   ],
   "source": [
    "plt.figure(figsize=(15,2))\n",
    "plt.imshow(x_train[104])\n",
    "y_train.shape"
   ]
  },
  {
   "cell_type": "code",
   "execution_count": 70,
   "metadata": {},
   "outputs": [],
   "source": [
    "Model = Sequential(\n",
    "    [\n",
    "        Conv2D(filters = 32, kernel_size =(3,3), activation= 'relu' ,padding = 'valid', input_shape=(28,28,1) ),\n",
    "        MaxPool2D(pool_size= (2,2), strides = 2),\n",
    "        Conv2D(filters = 64, kernel_size =(3,3), activation= 'relu'),\n",
    "        MaxPool2D(pool_size= (2,2), strides = 2),\n",
    "        # Conv2D(filters = 128, kernel_size =(3,3), activation= 'relu'),\n",
    "        # MaxPool2D(pool_size= (2,2), strides = 2),\n",
    "        # Conv2D(filters = 64, kernel_size =(3,3), activation= 'relu'),\n",
    "        Flatten(),\n",
    "        Dense(units=10, activation ='softmax'),\n",
    "    ]\n",
    ")"
   ]
  },
  {
   "cell_type": "code",
   "execution_count": 56,
   "metadata": {},
   "outputs": [
    {
     "name": "stdout",
     "output_type": "stream",
     "text": [
      "Model: \"sequential_10\"\n",
      "_________________________________________________________________\n",
      " Layer (type)                Output Shape              Param #   \n",
      "=================================================================\n",
      " conv2d_20 (Conv2D)          (None, 26, 26, 32)        320       \n",
      "                                                                 \n",
      " max_pooling2d_20 (MaxPoolin  (None, 13, 13, 32)       0         \n",
      " g2D)                                                            \n",
      "                                                                 \n",
      " conv2d_21 (Conv2D)          (None, 11, 11, 64)        18496     \n",
      "                                                                 \n",
      " max_pooling2d_21 (MaxPoolin  (None, 5, 5, 64)         0         \n",
      " g2D)                                                            \n",
      "                                                                 \n",
      " flatten_10 (Flatten)        (None, 1600)              0         \n",
      "                                                                 \n",
      " dense_10 (Dense)            (None, 10)                16010     \n",
      "                                                                 \n",
      "=================================================================\n",
      "Total params: 34,826\n",
      "Trainable params: 34,826\n",
      "Non-trainable params: 0\n",
      "_________________________________________________________________\n"
     ]
    }
   ],
   "source": [
    "Model.summary()\n"
   ]
  },
  {
   "cell_type": "code",
   "execution_count": 71,
   "metadata": {},
   "outputs": [],
   "source": [
    "Model.compile(optimizer=tf.keras.optimizers.Adam(learning_rate=0.0001),loss = 'sparse_categorical_crossentropy',metrics =['accuracy'])"
   ]
  },
  {
   "cell_type": "code",
   "execution_count": 72,
   "metadata": {},
   "outputs": [
    {
     "name": "stdout",
     "output_type": "stream",
     "text": [
      "Epoch 1/10\n",
      "1500/1500 [==============================] - 28s 18ms/step - loss: 1.6037 - accuracy: 0.8359 - val_loss: 0.4149 - val_accuracy: 0.9266\n",
      "Epoch 2/10\n",
      "1500/1500 [==============================] - 28s 18ms/step - loss: 0.2891 - accuracy: 0.9446 - val_loss: 0.2448 - val_accuracy: 0.9519\n",
      "Epoch 3/10\n",
      "1500/1500 [==============================] - 28s 19ms/step - loss: 0.1742 - accuracy: 0.9625 - val_loss: 0.1558 - val_accuracy: 0.9674\n",
      "Epoch 4/10\n",
      "1500/1500 [==============================] - 31s 20ms/step - loss: 0.1211 - accuracy: 0.9715 - val_loss: 0.1297 - val_accuracy: 0.9730\n",
      "Epoch 5/10\n",
      "1500/1500 [==============================] - 34s 23ms/step - loss: 0.0859 - accuracy: 0.9775 - val_loss: 0.1035 - val_accuracy: 0.9758\n",
      "Epoch 6/10\n",
      "1500/1500 [==============================] - 29s 19ms/step - loss: 0.0659 - accuracy: 0.9824 - val_loss: 0.0970 - val_accuracy: 0.9780\n",
      "Epoch 7/10\n",
      "1500/1500 [==============================] - 29s 19ms/step - loss: 0.0523 - accuracy: 0.9854 - val_loss: 0.0977 - val_accuracy: 0.9772\n",
      "Epoch 8/10\n",
      "1500/1500 [==============================] - 31s 20ms/step - loss: 0.0405 - accuracy: 0.9878 - val_loss: 0.0818 - val_accuracy: 0.9814\n",
      "Epoch 9/10\n",
      "1500/1500 [==============================] - 31s 21ms/step - loss: 0.0316 - accuracy: 0.9899 - val_loss: 0.0803 - val_accuracy: 0.9817\n",
      "Epoch 10/10\n",
      "1500/1500 [==============================] - 28s 18ms/step - loss: 0.0267 - accuracy: 0.9912 - val_loss: 0.0775 - val_accuracy: 0.9826\n"
     ]
    },
    {
     "data": {
      "text/plain": [
       "<keras.callbacks.History at 0x7f85b8c99c00>"
      ]
     },
     "execution_count": 72,
     "metadata": {},
     "output_type": "execute_result"
    }
   ],
   "source": [
    "Model.fit(x=x_train,y = y_train ,validation_split=0.2, epochs=10, batch_size= 32)"
   ]
  },
  {
   "cell_type": "code",
   "execution_count": 75,
   "metadata": {},
   "outputs": [
    {
     "name": "stderr",
     "output_type": "stream",
     "text": [
      "WARNING:absl:Found untraced functions such as _jit_compiled_convolution_op, _jit_compiled_convolution_op, _update_step_xla while saving (showing 3 of 3). These functions will not be directly callable after loading.\n"
     ]
    },
    {
     "name": "stdout",
     "output_type": "stream",
     "text": [
      "INFO:tensorflow:Assets written to: Model_v01/assets\n"
     ]
    },
    {
     "name": "stderr",
     "output_type": "stream",
     "text": [
      "INFO:tensorflow:Assets written to: Model_v01/assets\n"
     ]
    }
   ],
   "source": [
    "Model.save('Model_v01')"
   ]
  },
  {
   "cell_type": "code",
   "execution_count": 80,
   "metadata": {},
   "outputs": [
    {
     "name": "stdout",
     "output_type": "stream",
     "text": [
      "Epoch 1/10\n",
      "1500/1500 [==============================] - 29s 19ms/step - loss: 0.0229 - accuracy: 0.9924 - val_loss: 0.0846 - val_accuracy: 0.9803\n",
      "Epoch 2/10\n",
      "1500/1500 [==============================] - 29s 19ms/step - loss: 0.0162 - accuracy: 0.9949 - val_loss: 0.0790 - val_accuracy: 0.9826\n",
      "Epoch 3/10\n",
      "1500/1500 [==============================] - 30s 20ms/step - loss: 0.0144 - accuracy: 0.9952 - val_loss: 0.0725 - val_accuracy: 0.9834\n",
      "Epoch 4/10\n",
      "1500/1500 [==============================] - 31s 21ms/step - loss: 0.0104 - accuracy: 0.9964 - val_loss: 0.0805 - val_accuracy: 0.9829\n",
      "Epoch 5/10\n",
      "1500/1500 [==============================] - 29s 20ms/step - loss: 0.0097 - accuracy: 0.9964 - val_loss: 0.0755 - val_accuracy: 0.9853\n",
      "Epoch 6/10\n",
      "1500/1500 [==============================] - 30s 20ms/step - loss: 0.0067 - accuracy: 0.9977 - val_loss: 0.0743 - val_accuracy: 0.9844\n",
      "Epoch 7/10\n",
      "1500/1500 [==============================] - 30s 20ms/step - loss: 0.0084 - accuracy: 0.9971 - val_loss: 0.0773 - val_accuracy: 0.9840\n",
      "Epoch 8/10\n",
      "1500/1500 [==============================] - 30s 20ms/step - loss: 0.0054 - accuracy: 0.9980 - val_loss: 0.0719 - val_accuracy: 0.9851\n",
      "Epoch 9/10\n",
      "1500/1500 [==============================] - 30s 20ms/step - loss: 0.0067 - accuracy: 0.9976 - val_loss: 0.0706 - val_accuracy: 0.9858\n",
      "Epoch 10/10\n",
      "1500/1500 [==============================] - 31s 20ms/step - loss: 0.0035 - accuracy: 0.9989 - val_loss: 0.0793 - val_accuracy: 0.9843\n",
      "Epoch 1/5\n",
      "1500/1500 [==============================] - 31s 20ms/step - loss: 0.0062 - accuracy: 0.9979 - val_loss: 0.0725 - val_accuracy: 0.9850\n",
      "Epoch 2/5\n",
      "1500/1500 [==============================] - 31s 20ms/step - loss: 0.0039 - accuracy: 0.9987 - val_loss: 0.0797 - val_accuracy: 0.9862\n",
      "Epoch 3/5\n",
      "1500/1500 [==============================] - 30s 20ms/step - loss: 0.0058 - accuracy: 0.9981 - val_loss: 0.0724 - val_accuracy: 0.9874\n",
      "Epoch 4/5\n",
      "1500/1500 [==============================] - 33s 22ms/step - loss: 0.0024 - accuracy: 0.9992 - val_loss: 0.0755 - val_accuracy: 0.9873\n",
      "Epoch 5/5\n",
      "1500/1500 [==============================] - 32s 21ms/step - loss: 0.0046 - accuracy: 0.9985 - val_loss: 0.0872 - val_accuracy: 0.9853\n"
     ]
    },
    {
     "data": {
      "text/plain": [
       "<keras.callbacks.History at 0x7f85680b0430>"
      ]
     },
     "execution_count": 80,
     "metadata": {},
     "output_type": "execute_result"
    }
   ],
   "source": [
    "reconstructed_model = keras.models.load_model(\"Model_v01\")\n",
    "\n",
    "reconstructed_model.fit(x_train, y_train,validation_split=0.2, epochs=10, batch_size= 32)\n",
    "reconstructed_model.fit(x_train, y_train,validation_split=0.2, epochs=5, batch_size= 32)\n"
   ]
  },
  {
   "cell_type": "code",
   "execution_count": 81,
   "metadata": {},
   "outputs": [
    {
     "name": "stdout",
     "output_type": "stream",
     "text": [
      "313/313 [==============================] - 2s 7ms/step\n"
     ]
    },
    {
     "data": {
      "text/plain": [
       "array([[1.3441738e-16, 2.0665558e-15, 8.4205760e-11, ..., 9.9999994e-01,\n",
       "        5.7526217e-13, 3.0604658e-10],\n",
       "       [1.2732568e-13, 1.0727983e-15, 9.9999994e-01, ..., 3.2155796e-21,\n",
       "        1.5764071e-12, 1.8630262e-18],\n",
       "       [8.1213463e-09, 9.9998373e-01, 1.1737197e-06, ..., 6.0555235e-06,\n",
       "        4.1644370e-08, 1.1799052e-09],\n",
       "       ...,\n",
       "       [4.3202957e-18, 1.8517421e-15, 9.6642674e-17, ..., 8.0933212e-12,\n",
       "        1.5141902e-11, 4.6910045e-11],\n",
       "       [1.4480507e-09, 1.5934760e-16, 8.1202711e-14, ..., 3.4727818e-11,\n",
       "        3.4705066e-04, 2.2450894e-11],\n",
       "       [1.0211673e-15, 3.9824388e-20, 8.7637406e-13, ..., 7.0694970e-19,\n",
       "        1.0915849e-12, 1.0221172e-17]], dtype=float32)"
      ]
     },
     "execution_count": 81,
     "metadata": {},
     "output_type": "execute_result"
    }
   ],
   "source": [
    "y_pred = Model.predict(x_test)\n",
    "\n",
    "y_pred"
   ]
  },
  {
   "cell_type": "code",
   "execution_count": 84,
   "metadata": {},
   "outputs": [
    {
     "data": {
      "text/plain": [
       "array([7, 2, 1, ..., 4, 5, 6])"
      ]
     },
     "execution_count": 84,
     "metadata": {},
     "output_type": "execute_result"
    }
   ],
   "source": [
    "y_classes = [np.argmax(element) for element in y_pred]\n",
    "y_classes = np.array(y_classes)\n",
    "y_classes.reshape(-1)"
   ]
  },
  {
   "cell_type": "code",
   "execution_count": 85,
   "metadata": {},
   "outputs": [
    {
     "name": "stdout",
     "output_type": "stream",
     "text": [
      "98.27\n"
     ]
    }
   ],
   "source": [
    "count = 0\n",
    "for i in range(len(y_classes)):\n",
    "    if y_classes[i] == y_test[i]:\n",
    "        count +=1\n",
    "print( count *100/len(y_classes))"
   ]
  },
  {
   "cell_type": "code",
   "execution_count": null,
   "metadata": {},
   "outputs": [],
   "source": []
  }
 ],
 "metadata": {
  "kernelspec": {
   "display_name": "Python 3.10.6 64-bit",
   "language": "python",
   "name": "python3"
  },
  "language_info": {
   "codemirror_mode": {
    "name": "ipython",
    "version": 3
   },
   "file_extension": ".py",
   "mimetype": "text/x-python",
   "name": "python",
   "nbconvert_exporter": "python",
   "pygments_lexer": "ipython3",
   "version": "3.10.6"
  },
  "vscode": {
   "interpreter": {
    "hash": "916dbcbb3f70747c44a77c7bcd40155683ae19c65e1c03b4aa3499c5328201f1"
   }
  }
 },
 "nbformat": 4,
 "nbformat_minor": 4
}
